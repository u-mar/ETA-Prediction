{
 "cells": [
  {
   "cell_type": "markdown",
   "id": "e65c93dd-edb7-43fa-98f5-279baa87d9f6",
   "metadata": {},
   "source": [
    "# **Deep ETA Prediction**"
   ]
  },
  {
   "cell_type": "markdown",
   "id": "a0cc174b-02ea-4a74-81e0-befd7adc4c00",
   "metadata": {},
   "source": [
    "## **Introduction**"
   ]
  },
  {
   "cell_type": "markdown",
   "id": "2d462847-c4db-4298-9608-20bac7782a76",
   "metadata": {
    "scrolled": true
   },
   "source": [
    "<img src=\"../Images/eta.png\" alt=\"eta\" width=\"800\">"
   ]
  },
  {
   "cell_type": "markdown",
   "id": "39108588-6e50-4187-a3c2-8f5d7e8a24ec",
   "metadata": {},
   "source": [
    "Ride-hailing apps like Uber and Faras rely on real-time data and machine learning algorithms to automate their services. Accurately predicting the estimated time of arrival (ETA) for Faras trips will make Faras’s services more reliable and attractive; this will have a direct and indirect impact on both customers and business partners. The solution would help the company save money and allocate more resources to other parts of the business.\n",
    "\n",
    "The objective of this project is to predict the estimated time of arrival at the dropoff point for ajourney.\n",
    "\n",
    "This project will use the [CRISP-DM](https://www.datascience-pm.com/crisp-dm-2/) framework for data science problems"
   ]
  },
  {
   "cell_type": "markdown",
   "id": "1e94e45f-c291-431b-88af-ea6add64f4b2",
   "metadata": {},
   "source": [
    "## **1. Business Understanding**"
   ]
  },
  {
   "cell_type": "markdown",
   "id": "6cb1358d-9f4c-450f-aa09-1392f6533319",
   "metadata": {},
   "source": [
    "*Predicting Estimated Time of Arrival (ETA) for Faras*\n",
    "\n",
    "Ride-hailing platforms such as **Faras** operate in a highly competitive and fast-paced environment where real-time data and advanced machine learning algorithms play a crucial role in providing reliable services. A key component of this is accurately predicting the **Estimated Time of Arrival (ETA)** for Faras journeys. Improving ETA predictions directly enhances the reliability and customer satisfaction, which in turn drives the success of the business.\n",
    "\n",
    "Accurate ETAs are not only important for providing better customer experience but are also vital for optimizing ride fares, matching riders with drivers, planning deliveries, and overall operational efficiency. An inaccurate ETA can lead to customers canceling their rides due to long waits or, conversely, dissatisfaction if the ETA is too optimistic. Both outcomes could lead to a decrease in customer retention and revenue, making ETA prediction a critical aspect of Faras business model.\n",
    "\n",
    "\n",
    "Inaccurate ETA predictions have a direct impact on the business. If the ETA is overestimated, customers may cancel their bookings due to longer-than-expected wait times. This results in revenue loss, wasted driver time, and potentially increased customer churn. On the other hand, if the ETA is underestimated, customers may experience delays, leading to frustration, negative reviews, or even app uninstalls, further affecting the company's reputation and revenue.\n",
    "\n",
    "Improving ETA accuracy offers **several benefits**:\n",
    "1. **Improved Customer Experience**:\n",
    "   - **Accurate Trip Planning**: When customers receive reliable ETAs, they can plan their time better, knowing when to expect the vehicle to arrive at the pickup point and how long the trip will take to the destination.\n",
    "   - **Reduced Cancellations**: If the ETA is realistic, customers are less likely to cancel due to long wait times or false expectations. Accurate ETAs minimize frustrations caused by miscalculations.\n",
    "\n",
    "2. **Higher Driver Satisfaction**:\n",
    "   - **Better Earnings and Time Management**: When drivers have accurate ETAs, they can better estimate how many rides they can complete in a given period, optimizing their earnings and time. This leads to higher driver retention and satisfaction.\n",
    "\n",
    "3. **Revenue Growth**:\n",
    "   - **Customer Retention**: A reliable ETA prediction system can lead to improved customer loyalty as users appreciate the accuracy of time estimates, leading to increased ride bookings.\n",
    "## Objectives\n",
    "\n",
    "The primary objective is to **develop a highly accurate and efficient predictive model** that can estimate the ETA for FarasJourneys trips in real-time. Specifically, the model should:\n",
    "\n",
    "1. **Minimize Latency**: The model must be able to return an ETA prediction within a few milliseconds. This is critical to ensure that ETAs can be delivered to customers and drivers without delay, enabling the system to make quick decisions regarding route planning and ride matching.\n",
    "   \n",
    "2. **Maximize Accuracy**: The model must significantly improve on the existing XGBoost-based solution in terms of accuracy. This means reducing the Mean Absolute Error (MAE) to provide more reliable ETA predictions, thereby minimizing customer dissatisfaction caused by inaccurate estimates.\n",
    "\n",
    "## Proposed Solution\n",
    "\n",
    "### Deep Learning Approach:\n",
    "Given the complexity of the factors involved and the need for both **low latency** and **high accuracy**, a deep learning model is proposed. While traditional models such as XGBoost have been useful, the real-time and multi-dimensional nature of the data makes deep learning more suited for the task.\n",
    "\n",
    "\n"
   ]
  },
  {
   "cell_type": "markdown",
   "id": "4943a9dd-0714-4873-824a-0faf8e9cefcb",
   "metadata": {},
   "source": [
    "## **2. Data Understanding**"
   ]
  },
  {
   "cell_type": "code",
   "execution_count": 44,
   "id": "0bb51776-18c8-425a-b070-7f60b7fd4159",
   "metadata": {},
   "outputs": [],
   "source": [
    "import pandas as pd\n",
    "import numpy as np"
   ]
  },
  {
   "cell_type": "markdown",
   "id": "df8b67d0-9515-4b20-9be1-470e5365f1ee",
   "metadata": {},
   "source": [
    "#### Data Loading"
   ]
  },
  {
   "cell_type": "code",
   "execution_count": 7,
   "id": "54745343-05a6-4bc8-b40f-af6109c7bbed",
   "metadata": {},
   "outputs": [
    {
     "data": {
      "text/html": [
       "<div>\n",
       "<style scoped>\n",
       "    .dataframe tbody tr th:only-of-type {\n",
       "        vertical-align: middle;\n",
       "    }\n",
       "\n",
       "    .dataframe tbody tr th {\n",
       "        vertical-align: top;\n",
       "    }\n",
       "\n",
       "    .dataframe thead th {\n",
       "        text-align: right;\n",
       "    }\n",
       "</style>\n",
       "<table border=\"1\" class=\"dataframe\">\n",
       "  <thead>\n",
       "    <tr style=\"text-align: right;\">\n",
       "      <th></th>\n",
       "      <th>ID</th>\n",
       "      <th>Timestamp</th>\n",
       "      <th>Origin_lat</th>\n",
       "      <th>Origin_lon</th>\n",
       "      <th>Destination_lat</th>\n",
       "      <th>Destination_lon</th>\n",
       "      <th>Trip_distance</th>\n",
       "      <th>ETA</th>\n",
       "    </tr>\n",
       "  </thead>\n",
       "  <tbody>\n",
       "    <tr>\n",
       "      <th>0</th>\n",
       "      <td>000FLWA8</td>\n",
       "      <td>2019-12-04T20:01:50Z</td>\n",
       "      <td>3.258</td>\n",
       "      <td>36.777</td>\n",
       "      <td>3.003</td>\n",
       "      <td>36.718</td>\n",
       "      <td>39627</td>\n",
       "      <td>2784</td>\n",
       "    </tr>\n",
       "    <tr>\n",
       "      <th>1</th>\n",
       "      <td>000RGOAM</td>\n",
       "      <td>2019-12-10T22:37:09Z</td>\n",
       "      <td>3.087</td>\n",
       "      <td>36.707</td>\n",
       "      <td>3.081</td>\n",
       "      <td>36.727</td>\n",
       "      <td>3918</td>\n",
       "      <td>576</td>\n",
       "    </tr>\n",
       "    <tr>\n",
       "      <th>2</th>\n",
       "      <td>001QSGIH</td>\n",
       "      <td>2019-11-23T20:36:10Z</td>\n",
       "      <td>3.144</td>\n",
       "      <td>36.739</td>\n",
       "      <td>3.088</td>\n",
       "      <td>36.742</td>\n",
       "      <td>7265</td>\n",
       "      <td>526</td>\n",
       "    </tr>\n",
       "    <tr>\n",
       "      <th>3</th>\n",
       "      <td>002ACV6R</td>\n",
       "      <td>2019-12-01T05:43:21Z</td>\n",
       "      <td>3.239</td>\n",
       "      <td>36.784</td>\n",
       "      <td>3.054</td>\n",
       "      <td>36.763</td>\n",
       "      <td>23350</td>\n",
       "      <td>3130</td>\n",
       "    </tr>\n",
       "    <tr>\n",
       "      <th>4</th>\n",
       "      <td>0039Y7A8</td>\n",
       "      <td>2019-12-17T20:30:20Z</td>\n",
       "      <td>2.912</td>\n",
       "      <td>36.707</td>\n",
       "      <td>3.207</td>\n",
       "      <td>36.698</td>\n",
       "      <td>36613</td>\n",
       "      <td>2138</td>\n",
       "    </tr>\n",
       "  </tbody>\n",
       "</table>\n",
       "</div>"
      ],
      "text/plain": [
       "         ID             Timestamp  Origin_lat  Origin_lon  Destination_lat  \\\n",
       "0  000FLWA8  2019-12-04T20:01:50Z       3.258      36.777            3.003   \n",
       "1  000RGOAM  2019-12-10T22:37:09Z       3.087      36.707            3.081   \n",
       "2  001QSGIH  2019-11-23T20:36:10Z       3.144      36.739            3.088   \n",
       "3  002ACV6R  2019-12-01T05:43:21Z       3.239      36.784            3.054   \n",
       "4  0039Y7A8  2019-12-17T20:30:20Z       2.912      36.707            3.207   \n",
       "\n",
       "   Destination_lon  Trip_distance   ETA  \n",
       "0           36.718          39627  2784  \n",
       "1           36.727           3918   576  \n",
       "2           36.742           7265   526  \n",
       "3           36.763          23350  3130  \n",
       "4           36.698          36613  2138  "
      ]
     },
     "execution_count": 7,
     "metadata": {},
     "output_type": "execute_result"
    }
   ],
   "source": [
    "# load training data\n",
    "df = pd.read_csv('../Data/Train.csv')\n",
    "df.head()"
   ]
  },
  {
   "cell_type": "code",
   "execution_count": 9,
   "id": "e75c1d34-d4ac-4969-bd87-6dad2d1a517e",
   "metadata": {},
   "outputs": [
    {
     "data": {
      "text/html": [
       "<div>\n",
       "<style scoped>\n",
       "    .dataframe tbody tr th:only-of-type {\n",
       "        vertical-align: middle;\n",
       "    }\n",
       "\n",
       "    .dataframe tbody tr th {\n",
       "        vertical-align: top;\n",
       "    }\n",
       "\n",
       "    .dataframe thead th {\n",
       "        text-align: right;\n",
       "    }\n",
       "</style>\n",
       "<table border=\"1\" class=\"dataframe\">\n",
       "  <thead>\n",
       "    <tr style=\"text-align: right;\">\n",
       "      <th></th>\n",
       "      <th>date</th>\n",
       "      <th>dewpoint_2m_temperature</th>\n",
       "      <th>maximum_2m_air_temperature</th>\n",
       "      <th>mean_2m_air_temperature</th>\n",
       "      <th>mean_sea_level_pressure</th>\n",
       "      <th>minimum_2m_air_temperature</th>\n",
       "      <th>surface_pressure</th>\n",
       "      <th>total_precipitation</th>\n",
       "      <th>u_component_of_wind_10m</th>\n",
       "      <th>v_component_of_wind_10m</th>\n",
       "    </tr>\n",
       "  </thead>\n",
       "  <tbody>\n",
       "    <tr>\n",
       "      <th>0</th>\n",
       "      <td>2019-11-01</td>\n",
       "      <td>290.630524</td>\n",
       "      <td>296.434662</td>\n",
       "      <td>294.125061</td>\n",
       "      <td>101853.617188</td>\n",
       "      <td>292.503998</td>\n",
       "      <td>100806.351562</td>\n",
       "      <td>0.004297</td>\n",
       "      <td>3.561323</td>\n",
       "      <td>0.941695</td>\n",
       "    </tr>\n",
       "    <tr>\n",
       "      <th>1</th>\n",
       "      <td>2019-11-02</td>\n",
       "      <td>289.135284</td>\n",
       "      <td>298.432404</td>\n",
       "      <td>295.551666</td>\n",
       "      <td>101225.164062</td>\n",
       "      <td>293.337921</td>\n",
       "      <td>100187.250000</td>\n",
       "      <td>0.001767</td>\n",
       "      <td>5.318593</td>\n",
       "      <td>3.258237</td>\n",
       "    </tr>\n",
       "    <tr>\n",
       "      <th>2</th>\n",
       "      <td>2019-11-03</td>\n",
       "      <td>287.667694</td>\n",
       "      <td>296.612122</td>\n",
       "      <td>295.182831</td>\n",
       "      <td>100806.617188</td>\n",
       "      <td>293.674316</td>\n",
       "      <td>99771.414062</td>\n",
       "      <td>0.000797</td>\n",
       "      <td>8.447649</td>\n",
       "      <td>3.172982</td>\n",
       "    </tr>\n",
       "    <tr>\n",
       "      <th>3</th>\n",
       "      <td>2019-11-04</td>\n",
       "      <td>287.634644</td>\n",
       "      <td>297.173737</td>\n",
       "      <td>294.368134</td>\n",
       "      <td>101240.929688</td>\n",
       "      <td>292.376221</td>\n",
       "      <td>100200.843750</td>\n",
       "      <td>0.000393</td>\n",
       "      <td>5.991428</td>\n",
       "      <td>2.236700</td>\n",
       "    </tr>\n",
       "    <tr>\n",
       "      <th>4</th>\n",
       "      <td>2019-11-05</td>\n",
       "      <td>286.413788</td>\n",
       "      <td>294.284851</td>\n",
       "      <td>292.496979</td>\n",
       "      <td>101131.750000</td>\n",
       "      <td>289.143066</td>\n",
       "      <td>100088.500000</td>\n",
       "      <td>0.004658</td>\n",
       "      <td>6.962730</td>\n",
       "      <td>2.655364</td>\n",
       "    </tr>\n",
       "  </tbody>\n",
       "</table>\n",
       "</div>"
      ],
      "text/plain": [
       "         date  dewpoint_2m_temperature  maximum_2m_air_temperature  \\\n",
       "0  2019-11-01               290.630524                  296.434662   \n",
       "1  2019-11-02               289.135284                  298.432404   \n",
       "2  2019-11-03               287.667694                  296.612122   \n",
       "3  2019-11-04               287.634644                  297.173737   \n",
       "4  2019-11-05               286.413788                  294.284851   \n",
       "\n",
       "   mean_2m_air_temperature  mean_sea_level_pressure  \\\n",
       "0               294.125061            101853.617188   \n",
       "1               295.551666            101225.164062   \n",
       "2               295.182831            100806.617188   \n",
       "3               294.368134            101240.929688   \n",
       "4               292.496979            101131.750000   \n",
       "\n",
       "   minimum_2m_air_temperature  surface_pressure  total_precipitation  \\\n",
       "0                  292.503998     100806.351562             0.004297   \n",
       "1                  293.337921     100187.250000             0.001767   \n",
       "2                  293.674316      99771.414062             0.000797   \n",
       "3                  292.376221     100200.843750             0.000393   \n",
       "4                  289.143066     100088.500000             0.004658   \n",
       "\n",
       "   u_component_of_wind_10m  v_component_of_wind_10m  \n",
       "0                 3.561323                 0.941695  \n",
       "1                 5.318593                 3.258237  \n",
       "2                 8.447649                 3.172982  \n",
       "3                 5.991428                 2.236700  \n",
       "4                 6.962730                 2.655364  "
      ]
     },
     "execution_count": 9,
     "metadata": {},
     "output_type": "execute_result"
    }
   ],
   "source": [
    "# weather data\n",
    "weather_df = pd.read_csv('../Data/Weather.csv')\n",
    "weather_df.head()"
   ]
  },
  {
   "cell_type": "markdown",
   "id": "b93b2a60-244b-426d-bea5-2eafd933a0a5",
   "metadata": {},
   "source": [
    "1. **date:** The date when the weather measurements were recorded.\n",
    "\n",
    "2. **dewpoint_2m_temperature:** The temperature at 2 meters above the ground where the air temperature would be low enough for dew to form. It gives an indication of humidity.\n",
    "\n",
    "3. **maximum_2m_air_temperature:** The highest air temperature recorded at 2 meters above the ground during the specified date.\n",
    "\n",
    "4. **mean_2m_air_temperature:** The average air temperature at 2 meters above the ground during the specified date.\n",
    "\n",
    "5. **mean_sea_level_pressure:** The average atmospheric pressure at sea level during the specified date.\n",
    "\n",
    "6. **minimum_2m_air_temperature:** The lowest air temperature recorded at 2 meters above the ground during the specified date.\n",
    "\n",
    "7. **surface_pressure:** The atmospheric pressure at the Earth's surface during the specified date.\n",
    "\n",
    "8. **total_precipitation:** The total amount of precipitation (rain, snow, etc.) during the specified date.\n",
    "\n",
    "9. **u_component_of_wind_10m:** The east-west (horizontal) component of the wind speed at 10 meters above the ground.\n",
    "\n",
    "10. **v_component_of_wind_10m:** The north-south (vertical) component of the wind speed at 10 meters above the ground."
   ]
  },
  {
   "cell_type": "code",
   "execution_count": 15,
   "id": "92aafd21-d51e-4387-9ab1-8587d92dfaec",
   "metadata": {},
   "outputs": [
    {
     "name": "stdout",
     "output_type": "stream",
     "text": [
      "<class 'pandas.core.frame.DataFrame'>\n",
      "RangeIndex: 83924 entries, 0 to 83923\n",
      "Data columns (total 8 columns):\n",
      " #   Column           Non-Null Count  Dtype  \n",
      "---  ------           --------------  -----  \n",
      " 0   ID               83924 non-null  object \n",
      " 1   Timestamp        83924 non-null  object \n",
      " 2   Origin_lat       83924 non-null  float64\n",
      " 3   Origin_lon       83924 non-null  float64\n",
      " 4   Destination_lat  83924 non-null  float64\n",
      " 5   Destination_lon  83924 non-null  float64\n",
      " 6   Trip_distance    83924 non-null  int64  \n",
      " 7   ETA              83924 non-null  int64  \n",
      "dtypes: float64(4), int64(2), object(2)\n",
      "memory usage: 5.1+ MB\n"
     ]
    }
   ],
   "source": [
    "df.info()"
   ]
  },
  {
   "cell_type": "code",
   "execution_count": 18,
   "id": "aab03a0c-fd89-44a7-9b78-3fe5ad7e257a",
   "metadata": {},
   "outputs": [],
   "source": [
    "# to timestamp\n",
    "df['Timestamp'] = pd.to_datetime(df['Timestamp'])"
   ]
  },
  {
   "cell_type": "code",
   "execution_count": 16,
   "id": "f9999002-180d-4d36-aa4f-bfe8638834bf",
   "metadata": {},
   "outputs": [
    {
     "name": "stdout",
     "output_type": "stream",
     "text": [
      "<class 'pandas.core.frame.DataFrame'>\n",
      "RangeIndex: 61 entries, 0 to 60\n",
      "Data columns (total 10 columns):\n",
      " #   Column                      Non-Null Count  Dtype  \n",
      "---  ------                      --------------  -----  \n",
      " 0   date                        61 non-null     object \n",
      " 1   dewpoint_2m_temperature     61 non-null     float64\n",
      " 2   maximum_2m_air_temperature  61 non-null     float64\n",
      " 3   mean_2m_air_temperature     61 non-null     float64\n",
      " 4   mean_sea_level_pressure     61 non-null     float64\n",
      " 5   minimum_2m_air_temperature  61 non-null     float64\n",
      " 6   surface_pressure            61 non-null     float64\n",
      " 7   total_precipitation         61 non-null     float64\n",
      " 8   u_component_of_wind_10m     61 non-null     float64\n",
      " 9   v_component_of_wind_10m     61 non-null     float64\n",
      "dtypes: float64(9), object(1)\n",
      "memory usage: 4.9+ KB\n"
     ]
    }
   ],
   "source": [
    "weather_df.info()"
   ]
  },
  {
   "cell_type": "code",
   "execution_count": 19,
   "id": "64ce136a-37ff-4485-b721-42099a2b1379",
   "metadata": {},
   "outputs": [],
   "source": [
    "# changing date column to datetime\n",
    "weather_df['date'] = pd.to_datetime(weather_df['date'])"
   ]
  },
  {
   "cell_type": "markdown",
   "id": "02a90a96-6639-45bb-90a7-25be41aca10d",
   "metadata": {},
   "source": [
    "#### *Check for Null Values*"
   ]
  },
  {
   "cell_type": "code",
   "execution_count": 31,
   "id": "16bcf8a7-8821-421c-a80d-dd6473bce355",
   "metadata": {},
   "outputs": [
    {
     "name": "stdout",
     "output_type": "stream",
     "text": [
      "Null Values: ID                 0\n",
      "Timestamp          0\n",
      "Origin_lat         0\n",
      "Origin_lon         0\n",
      "Destination_lat    0\n",
      "Destination_lon    0\n",
      "Trip_distance      0\n",
      "ETA                0\n",
      "dtype: int64\n",
      "Null Values Weather: date                          0\n",
      "dewpoint_2m_temperature       0\n",
      "maximum_2m_air_temperature    0\n",
      "mean_2m_air_temperature       0\n",
      "mean_sea_level_pressure       0\n",
      "minimum_2m_air_temperature    0\n",
      "surface_pressure              0\n",
      "total_precipitation           0\n",
      "u_component_of_wind_10m       0\n",
      "v_component_of_wind_10m       0\n",
      "dtype: int64\n"
     ]
    }
   ],
   "source": [
    "print(f\"Null Values: {df.isna().sum()}\")\n",
    "print(f\"Null Values Weather: {weather_df.isna().sum()}\")"
   ]
  },
  {
   "cell_type": "code",
   "execution_count": 22,
   "id": "655a4879-0cd2-471b-9216-57ab17a8de0f",
   "metadata": {},
   "outputs": [
    {
     "name": "stdout",
     "output_type": "stream",
     "text": [
      "Duplicated Rows: 0\n",
      "Duplicated Rows Weather: 0\n"
     ]
    }
   ],
   "source": [
    "print(f\"Duplicated Rows: {df.duplicated().sum()}\")\n",
    "print(f\"Duplicated Rows Weather: {weather_df.duplicated().sum()}\")"
   ]
  },
  {
   "cell_type": "code",
   "execution_count": 29,
   "id": "0b8c5e5b-3f92-4951-a524-f608b068752d",
   "metadata": {},
   "outputs": [
    {
     "data": {
      "text/html": [
       "<div>\n",
       "<style scoped>\n",
       "    .dataframe tbody tr th:only-of-type {\n",
       "        vertical-align: middle;\n",
       "    }\n",
       "\n",
       "    .dataframe tbody tr th {\n",
       "        vertical-align: top;\n",
       "    }\n",
       "\n",
       "    .dataframe thead th {\n",
       "        text-align: right;\n",
       "    }\n",
       "</style>\n",
       "<table border=\"1\" class=\"dataframe\">\n",
       "  <thead>\n",
       "    <tr style=\"text-align: right;\">\n",
       "      <th></th>\n",
       "      <th>Origin_lat</th>\n",
       "      <th>Origin_lon</th>\n",
       "      <th>Destination_lat</th>\n",
       "      <th>Destination_lon</th>\n",
       "      <th>Trip_distance</th>\n",
       "      <th>ETA</th>\n",
       "    </tr>\n",
       "  </thead>\n",
       "  <tbody>\n",
       "    <tr>\n",
       "      <th>count</th>\n",
       "      <td>83,924.000</td>\n",
       "      <td>83,924.000</td>\n",
       "      <td>83,924.000</td>\n",
       "      <td>83,924.000</td>\n",
       "      <td>83,924.000</td>\n",
       "      <td>83,924.000</td>\n",
       "    </tr>\n",
       "    <tr>\n",
       "      <th>mean</th>\n",
       "      <td>3.052</td>\n",
       "      <td>36.739</td>\n",
       "      <td>3.057</td>\n",
       "      <td>36.738</td>\n",
       "      <td>13,527.821</td>\n",
       "      <td>1,111.698</td>\n",
       "    </tr>\n",
       "    <tr>\n",
       "      <th>std</th>\n",
       "      <td>0.096</td>\n",
       "      <td>0.032</td>\n",
       "      <td>0.101</td>\n",
       "      <td>0.033</td>\n",
       "      <td>9,296.716</td>\n",
       "      <td>563.565</td>\n",
       "    </tr>\n",
       "    <tr>\n",
       "      <th>min</th>\n",
       "      <td>2.807</td>\n",
       "      <td>36.589</td>\n",
       "      <td>2.807</td>\n",
       "      <td>36.596</td>\n",
       "      <td>1.000</td>\n",
       "      <td>1.000</td>\n",
       "    </tr>\n",
       "    <tr>\n",
       "      <th>25%</th>\n",
       "      <td>2.994</td>\n",
       "      <td>36.721</td>\n",
       "      <td>2.995</td>\n",
       "      <td>36.718</td>\n",
       "      <td>6,108.000</td>\n",
       "      <td>701.000</td>\n",
       "    </tr>\n",
       "    <tr>\n",
       "      <th>50%</th>\n",
       "      <td>3.046</td>\n",
       "      <td>36.742</td>\n",
       "      <td>3.049</td>\n",
       "      <td>36.742</td>\n",
       "      <td>11,731.500</td>\n",
       "      <td>1,054.000</td>\n",
       "    </tr>\n",
       "    <tr>\n",
       "      <th>75%</th>\n",
       "      <td>3.095</td>\n",
       "      <td>36.760</td>\n",
       "      <td>3.109</td>\n",
       "      <td>36.760</td>\n",
       "      <td>19,369.000</td>\n",
       "      <td>1,456.000</td>\n",
       "    </tr>\n",
       "    <tr>\n",
       "      <th>max</th>\n",
       "      <td>3.381</td>\n",
       "      <td>36.820</td>\n",
       "      <td>3.381</td>\n",
       "      <td>36.819</td>\n",
       "      <td>62,028.000</td>\n",
       "      <td>5,238.000</td>\n",
       "    </tr>\n",
       "  </tbody>\n",
       "</table>\n",
       "</div>"
      ],
      "text/plain": [
       "       Origin_lat  Origin_lon  Destination_lat  Destination_lon  \\\n",
       "count  83,924.000  83,924.000       83,924.000       83,924.000   \n",
       "mean        3.052      36.739            3.057           36.738   \n",
       "std         0.096       0.032            0.101            0.033   \n",
       "min         2.807      36.589            2.807           36.596   \n",
       "25%         2.994      36.721            2.995           36.718   \n",
       "50%         3.046      36.742            3.049           36.742   \n",
       "75%         3.095      36.760            3.109           36.760   \n",
       "max         3.381      36.820            3.381           36.819   \n",
       "\n",
       "       Trip_distance        ETA  \n",
       "count     83,924.000 83,924.000  \n",
       "mean      13,527.821  1,111.698  \n",
       "std        9,296.716    563.565  \n",
       "min            1.000      1.000  \n",
       "25%        6,108.000    701.000  \n",
       "50%       11,731.500  1,054.000  \n",
       "75%       19,369.000  1,456.000  \n",
       "max       62,028.000  5,238.000  "
      ]
     },
     "execution_count": 29,
     "metadata": {},
     "output_type": "execute_result"
    }
   ],
   "source": [
    "# format numerical columns to 2 decimal places with comma separator\n",
    "pd.options.display.float_format = '{:,.3f}'.format\n",
    "\n",
    "# statistics for numerical columns\n",
    "df.describe()"
   ]
  },
  {
   "cell_type": "markdown",
   "id": "7fa130b1-06e9-43dc-babd-44bc36e8896a",
   "metadata": {},
   "source": [
    "- **Origin and Destination Coordinates (Latitude and Longitude)**: The average coordinates are approximately 3.052 latitude and 36.739 longitude for both origin and destination. The minimum and maximum values show a limited range.\n",
    "- **Trip Distance**: The average trip distance is approximately 13,527.82 M, with a minimum of 1.00 M and a maximum of 62,028.00 M. Some anomalies with low distance.\n",
    "- **ETA (Estimated Time of Arrival)**: The average ETA is approximately 1,111.70s, with a minimum of 1.00s and a maximum of 5,238.00s. There could be some anomalies here with low ETA's, Will keep it for the EDA."
   ]
  },
  {
   "cell_type": "code",
   "execution_count": null,
   "id": "581e43d7-7acc-4b4d-afd2-e2e1e932fc49",
   "metadata": {},
   "outputs": [],
   "source": []
  }
 ],
 "metadata": {
  "kernelspec": {
   "display_name": "Python 3 (ipykernel)",
   "language": "python",
   "name": "python3"
  },
  "language_info": {
   "codemirror_mode": {
    "name": "ipython",
    "version": 3
   },
   "file_extension": ".py",
   "mimetype": "text/x-python",
   "name": "python",
   "nbconvert_exporter": "python",
   "pygments_lexer": "ipython3",
   "version": "3.11.2"
  }
 },
 "nbformat": 4,
 "nbformat_minor": 5
}
